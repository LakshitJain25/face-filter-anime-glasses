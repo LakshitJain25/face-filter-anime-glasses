{
 "cells": [
  {
   "cell_type": "code",
   "execution_count": 2,
   "id": "e78b2da3",
   "metadata": {},
   "outputs": [],
   "source": [
    "import dlib,cv2\n",
    "import numpy as np"
   ]
  },
  {
   "cell_type": "code",
   "execution_count": 3,
   "id": "3c8920a5",
   "metadata": {},
   "outputs": [],
   "source": [
    "model_path = \"shape_predictor_68_face_landmarks.dat\""
   ]
  },
  {
   "cell_type": "code",
   "execution_count": 4,
   "id": "1aec5f5b",
   "metadata": {},
   "outputs": [],
   "source": [
    "frontalFaceDetector = dlib.get_frontal_face_detector()"
   ]
  },
  {
   "cell_type": "code",
   "execution_count": 5,
   "id": "de9b558a",
   "metadata": {},
   "outputs": [],
   "source": [
    "faceLandMarkDetector = dlib.shape_predictor(model_path)"
   ]
  },
  {
   "cell_type": "code",
   "execution_count": 6,
   "id": "59666164",
   "metadata": {},
   "outputs": [],
   "source": [
    "imgGlass = cv2.imread('glasses-2.png',-1)\n",
    "\n",
    "glass_img_height,glass_img_width = imgGlass.shape[0:2]\n",
    "orig_mask = imgGlass[:,:,3]\n",
    "orig_mask_inv = cv2.bitwise_not(orig_mask)\n",
    "imgGlass = imgGlass[:,:,0:3]\n",
    "# cv2.imshow(\"glass\",orig_mask)\n",
    "# cv2.imshow(\"glass_inv\",orig_mask_inv)\n",
    "cv2.waitKey(0)\n",
    "cv2.destroyAllWindows()"
   ]
  },
  {
   "cell_type": "code",
   "execution_count": null,
   "id": "b210e8dd",
   "metadata": {},
   "outputs": [],
   "source": []
  },
  {
   "cell_type": "code",
   "execution_count": null,
   "id": "418f2328",
   "metadata": {},
   "outputs": [],
   "source": []
  },
  {
   "cell_type": "code",
   "execution_count": null,
   "id": "32408cc3",
   "metadata": {},
   "outputs": [],
   "source": []
  },
  {
   "cell_type": "code",
   "execution_count": 14,
   "id": "20418e5d",
   "metadata": {},
   "outputs": [],
   "source": [
    "# camera = cv2.VideoCapture(0)\n",
    "# frontalFaceDetector = dlib.get_frontal_face_detector()\n",
    "# while True:\n",
    "#     return_value, image = camera.read()\n",
    "#     allFaces = frontalFaceDetector(image,1)\n",
    "#     for k in range(0, len(allFaces)):\n",
    "#         image_show = cv2.rectangle(image,(int(allFaces[k].left()),int(allFaces[k].top())),(int(allFaces[k].right()),int(allFaces[k].bottom())),(0,255,0),3)\n",
    "#         cv2.imshow(\"image\",image_show)\n",
    "#         if(cv2.waitKey(1)==13):\n",
    "#             break\n",
    "# camera.release()\n",
    "# cv2.destroyAllWindows()"
   ]
  },
  {
   "cell_type": "code",
   "execution_count": 7,
   "id": "99da0211",
   "metadata": {},
   "outputs": [],
   "source": [
    "def drawPoints(image,faceLandmarks,startpoint,endpoint,isClosed=False):\n",
    "    points = []\n",
    "    for i in range(startpoint,endpoint+1):\n",
    "        point = [faceLandmarks.part(i).x,faceLandmarks.part(i).y]\n",
    "        points.append(point)\n",
    "    points = np.array(points,dtype=\"int32\")\n",
    "    cv2.polylines(image,[points],isClosed,(255,204,0),thickness=2,lineType=cv2.LINE_8)\n",
    "    \n",
    "    \n",
    "def facePoints(image, faceLandmarks):\n",
    "    assert(faceLandmarks.num_parts == 68)\n",
    "    drawPoints(image, faceLandmarks, 0, 16)           # Jaw line\n",
    "    drawPoints(image, faceLandmarks, 17, 21)          # Left eyebrow\n",
    "    drawPoints(image, faceLandmarks, 22, 26)          # Right eyebrow\n",
    "    drawPoints(image, faceLandmarks, 27, 30)          # Nose bridge\n",
    "    drawPoints(image, faceLandmarks, 30, 35, True)    # Lower nose\n",
    "    drawPoints(image, faceLandmarks, 36, 41, True)    # Left eye\n",
    "    drawPoints(image, faceLandmarks, 42, 47, True)    # Right Eye\n",
    "    drawPoints(image, faceLandmarks, 48, 59, True)    # Outer lip\n",
    "    drawPoints(image, faceLandmarks, 60, 67, True)\n",
    "    \n",
    "def getGlasses(frame,faceLandmarks):\n",
    "    glassWidth = abs(faceLandmarks.part(16).x - faceLandmarks.part(1).x)\n",
    "    glassHeight = int((glass_img_height / glass_img_width) * glassWidth)\n",
    "    glass = cv2.resize(imgGlass,(glassWidth,glassHeight),interpolation=cv2.INTER_AREA)\n",
    "    mask = cv2.resize(orig_mask,(glassWidth,glassHeight),interpolation=cv2.INTER_AREA)\n",
    "    mask_inv = cv2.resize(orig_mask_inv,(glassWidth,glassHeight),interpolation=cv2.INTER_AREA)\n",
    "    \n",
    "    y1 = int(faceLandmarks.part(24).y)\n",
    "    y2 = int(y1 + glassHeight)\n",
    "    x1 = int(faceLandmarks.part(27).x - (glassWidth/2))\n",
    "    x2 = int(x1 + glassWidth)\n",
    "    points = [[]]\n",
    "    cv2.polylines(image,)\n",
    "#     cv2.rectangle(frame,(x1,y1),(x2,y2),(255,0,123),2,2)\n",
    "    \n",
    "#     roi1 = frame[y1:y2, x1:x2]\n",
    "#     roi_bg = cv2.bitwise_and(roi1,roi1,mask = mask_inv)\n",
    "#     roi_fg = cv2.bitwise_and(glass,glass,mask = mask)\n",
    "#     frame[y1:y2, x1:x2] = cv2.add(roi_fg,roi_bg)\n",
    "    \n",
    "    return frame\n",
    "\n",
    "    \n",
    "    \n",
    "    "
   ]
  },
  {
   "cell_type": "code",
   "execution_count": null,
   "id": "72475a81",
   "metadata": {},
   "outputs": [],
   "source": []
  },
  {
   "cell_type": "code",
   "execution_count": 8,
   "id": "8c68673e",
   "metadata": {},
   "outputs": [],
   "source": [
    "camera = cv2.VideoCapture(0)\n",
    "frontalFaceDetector = dlib.get_frontal_face_detector()\n",
    "while True:\n",
    "    ret,image = camera.read()\n",
    "    allFaces = frontalFaceDetector(image,1)\n",
    "    allFacesLandmark = []\n",
    "    for k in range(0,len(allFaces)):\n",
    "        faceRectangleDlib = dlib.rectangle(int(allFaces[k].left()),int(allFaces[k].top()),int(allFaces[k].right()),int(allFaces[k].bottom()))\n",
    "        detectedLandMarks = faceLandMarkDetector(image,faceRectangleDlib)\n",
    "#         facePoints(image,detectedLandMarks)\n",
    "        getGlasses(image,detectedLandMarks)\n",
    "    cv2.imshow(\"camera\", image)\n",
    "    if(cv2.waitKey(1)==13):\n",
    "        break\n",
    "camera.release()\n",
    "cv2.destroyAllWindows()"
   ]
  },
  {
   "cell_type": "code",
   "execution_count": null,
   "id": "b9461798",
   "metadata": {},
   "outputs": [],
   "source": []
  },
  {
   "cell_type": "raw",
   "id": "f01c42d0",
   "metadata": {},
   "source": []
  },
  {
   "cell_type": "code",
   "execution_count": null,
   "id": "19d2e3e8",
   "metadata": {},
   "outputs": [],
   "source": []
  }
 ],
 "metadata": {
  "kernelspec": {
   "display_name": "Python 3 (ipykernel)",
   "language": "python",
   "name": "python3"
  },
  "language_info": {
   "codemirror_mode": {
    "name": "ipython",
    "version": 3
   },
   "file_extension": ".py",
   "mimetype": "text/x-python",
   "name": "python",
   "nbconvert_exporter": "python",
   "pygments_lexer": "ipython3",
   "version": "3.7.11"
  }
 },
 "nbformat": 4,
 "nbformat_minor": 5
}
